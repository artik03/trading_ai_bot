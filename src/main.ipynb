{
 "cells": [
  {
   "cell_type": "code",
   "execution_count": 2,
   "metadata": {},
   "outputs": [],
   "source": [
    "import numpy as np\n",
    "from fetch_data import get_data, remove_cols\n",
    "from helper import *\n",
    "from getters_alpaca import *\n",
    "import torch\n",
    "import matplotlib.pyplot as plt"
   ]
  },
  {
   "cell_type": "code",
   "execution_count": 3,
   "metadata": {},
   "outputs": [],
   "source": [
    "coin_name = \"LTCUSDT\"\n",
    "one_candle_intervals = \"15m\"\n",
    "n_periods: int = 1000 # alpaca api limit\n",
    "\n",
    "from fetch_data import get_data, remove_cols\n",
    "# get alpaca data\n",
    "alpaca_data = get_data(coin_name, one_candle_intervals, n_periods)\n",
    "alpaca_data = remove_cols(alpaca_data, \"close_time\", \"quote_asset_volume\", \"number_of_trades\", \"taker_buy_base_asset_volume\", \"taker_buy_quote_asset_volume\")\n",
    "\n",
    "# turn it to np\n",
    "alpaca_data = np.array(alpaca_data)"
   ]
  },
  {
   "cell_type": "code",
   "execution_count": 4,
   "metadata": {},
   "outputs": [],
   "source": [
    "# make series with usefull data\n",
    "data = fill_data(alpaca_data)\n",
    "#display_data_to_file(data, \"working_data\")\n",
    "m, n = data.shape\n",
    "np.random.shuffle(data)"
   ]
  },
  {
   "cell_type": "code",
   "execution_count": 6,
   "metadata": {},
   "outputs": [],
   "source": [
    "data_train = data[:800]\n",
    "y_train = torch.tensor(data_train[:,0], dtype=torch.float32)\n",
    "x_train = torch.tensor(data_train[:, 1:n], dtype=torch.float32)\n",
    "\n",
    "data_test = data[800:m]\n",
    "y_test = torch.tensor(data_test[:,0], dtype=torch.float32)\n",
    "x_test = torch.tensor(data_test[:, 1:n], dtype=torch.float32)"
   ]
  },
  {
   "cell_type": "code",
   "execution_count": 1,
   "metadata": {},
   "outputs": [
    {
     "ename": "NameError",
     "evalue": "name 'plt' is not defined",
     "output_type": "error",
     "traceback": [
      "\u001b[1;31m---------------------------------------------------------------------------\u001b[0m",
      "\u001b[1;31mNameError\u001b[0m                                 Traceback (most recent call last)",
      "Cell \u001b[1;32mIn[1], line 2\u001b[0m\n\u001b[0;32m      1\u001b[0m \u001b[38;5;66;03m# Scatter plot\u001b[39;00m\n\u001b[1;32m----> 2\u001b[0m \u001b[43mplt\u001b[49m\u001b[38;5;241m.\u001b[39mfigure(figsize\u001b[38;5;241m=\u001b[39m(\u001b[38;5;241m8\u001b[39m, \u001b[38;5;241m6\u001b[39m))\n\u001b[0;32m      3\u001b[0m plt\u001b[38;5;241m.\u001b[39mscatter(data[:,\u001b[38;5;241m8\u001b[39m ]\u001b[38;5;241m-\u001b[39mdata[:,\u001b[38;5;241m5\u001b[39m], data[:, \u001b[38;5;241m0\u001b[39m])\n\u001b[0;32m      4\u001b[0m plt\u001b[38;5;241m.\u001b[39mylabel(\u001b[38;5;124m'\u001b[39m\u001b[38;5;124mClosing Price Change\u001b[39m\u001b[38;5;124m'\u001b[39m)\n",
      "\u001b[1;31mNameError\u001b[0m: name 'plt' is not defined"
     ]
    }
   ],
   "source": [
    "plt.figure(figsize=(8, 6))\n",
    "plt.scatter(data[:,8 ]-data[:,5], data[:, 0])\n",
    "plt.ylabel('Closing Price Change')\n",
    "plt.show()"
   ]
  }
 ],
 "metadata": {
  "kernelspec": {
   "display_name": "venv",
   "language": "python",
   "name": "python3"
  },
  "language_info": {
   "codemirror_mode": {
    "name": "ipython",
    "version": 3
   },
   "file_extension": ".py",
   "mimetype": "text/x-python",
   "name": "python",
   "nbconvert_exporter": "python",
   "pygments_lexer": "ipython3",
   "version": "3.11.5"
  }
 },
 "nbformat": 4,
 "nbformat_minor": 2
}
