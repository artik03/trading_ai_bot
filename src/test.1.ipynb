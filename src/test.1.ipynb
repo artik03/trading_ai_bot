{
 "cells": [
  {
   "cell_type": "code",
   "execution_count": 1,
   "metadata": {},
   "outputs": [],
   "source": [
    "import numpy as np\n",
    "from fetch_data import get_data, remove_cols\n",
    "from helper import *\n",
    "from getters_alpaca import *\n",
    "from ucimlrepo import fetch_ucirepo \n",
    "import torch\n",
    "import torch.nn as nn"
   ]
  },
  {
   "cell_type": "code",
   "execution_count": 2,
   "metadata": {},
   "outputs": [],
   "source": [
    "# get data\n",
    "iris = fetch_ucirepo(id=53) \n",
    "  \n",
    "X = iris.data.features \n",
    "y = iris.data.targets \n",
    "x_numpy = np.array(X)\n",
    "y_numpy = np.array(y)\n",
    "\n",
    "# Combine features and targets into a single array and shuffle them\n",
    "data = np.column_stack((x_numpy, y_numpy))\n",
    "np.random.shuffle(data)\n",
    "\n",
    "x_numpy = data[:, :-1]\n",
    "y_numpy = data[:, -1]\n",
    "\n",
    "# Replacing plant names with corresponding numbers\n",
    "label_encoder = pd.factorize(y_numpy.flatten())[1]\n",
    "for i, name in enumerate(label_encoder):\n",
    "    y_numpy[y_numpy == name] = i\n",
    "\n",
    "\n",
    "m, n = x_numpy.shape # 150 x 4\n",
    "\n",
    "x_train= torch.tensor(x_numpy[0:120].astype(float), dtype=torch.float)\n",
    "y_train= torch.tensor(y_numpy[0:120].astype(float), dtype=torch.float)\n",
    "x_test=torch.tensor(x_numpy[120:m].astype(float), dtype=torch.float)\n",
    "y_test= torch.tensor(y_numpy[120:m].astype(float), dtype=torch.float)"
   ]
  },
  {
   "cell_type": "code",
   "execution_count": 3,
   "metadata": {},
   "outputs": [],
   "source": [
    "class LinearRegresionModel(nn.Module):\n",
    "    def __init__(self, in_features=4, l1 = 10, l2=10):\n",
    "        super().__init__()\n",
    "        self.weights1 = nn.Parameter(torch.randn(in_features, l1, dtype=torch.float), requires_grad=True)\n",
    "        self.bias1 = nn.Parameter(torch.randn(1, dtype=torch.float), requires_grad=True)\n",
    "        \n",
    "        self.weights2 = nn.Parameter(torch.randn(l1, l2, dtype=torch.float), requires_grad=True)\n",
    "        self.bias2 = nn.Parameter(torch.randn(1, dtype=torch.float), requires_grad=True)\n",
    "        \n",
    "        self.weights3 = nn.Parameter(torch.randn(l2, dtype=torch.float), requires_grad=True)\n",
    "        self.bias3 = nn.Parameter(torch.randn(1, dtype=torch.float), requires_grad=True)\n",
    "        \n",
    "    def forward(self, x) -> torch.Tensor:\n",
    "       # print(f'{x.shape} x {self.weights1.size()}')\n",
    "        x = torch.matmul(x, self.weights1) + self.bias1\n",
    "        x = torch.relu(x)\n",
    "       # print(f'{x.shape} x {self.weights2.size()}')\n",
    "        x = torch.matmul(x, self.weights2) + self.bias2\n",
    "        x = torch.relu(x)\n",
    "       # print(f'{x.shape} x {self.weights2.size()}')\n",
    "        x = torch.matmul(x, self.weights3) + self.bias3\n",
    "       # print(x.shape)\n",
    "        return x"
   ]
  },
  {
   "cell_type": "code",
   "execution_count": 50,
   "metadata": {},
   "outputs": [],
   "source": [
    "torch.manual_seed(1)\n",
    "model = LinearRegresionModel()"
   ]
  },
  {
   "cell_type": "code",
   "execution_count": 51,
   "metadata": {},
   "outputs": [],
   "source": [
    "optimizer = torch.optim.Adam(model.parameters(), lr=0.003)\n",
    "loss_fn = nn.L1Loss() "
   ]
  },
  {
   "cell_type": "code",
   "execution_count": 52,
   "metadata": {},
   "outputs": [
    {
     "name": "stdout",
     "output_type": "stream",
     "text": [
      "Epoch [100/1000], Average Loss: 0.2717404365539551, Test avg loss: 0.2227119654417038\n",
      "Epoch [200/1000], Average Loss: 0.16026458144187927, Test avg loss: 0.11556731909513474\n",
      "Epoch [300/1000], Average Loss: 0.13156528770923615, Test avg loss: 0.09774945676326752\n",
      "Epoch [400/1000], Average Loss: 0.11241927742958069, Test avg loss: 0.08433424681425095\n",
      "Epoch [500/1000], Average Loss: 0.09441520273685455, Test avg loss: 0.06901251524686813\n",
      "Epoch [600/1000], Average Loss: 0.07911153137683868, Test avg loss: 0.062476806342601776\n",
      "Epoch [700/1000], Average Loss: 0.07372793555259705, Test avg loss: 0.053691569715738297\n",
      "Epoch [800/1000], Average Loss: 0.06645006686449051, Test avg loss: 0.05562657490372658\n",
      "Epoch [900/1000], Average Loss: 0.07490433007478714, Test avg loss: 0.06960728764533997\n",
      "Epoch [1000/1000], Average Loss: 0.04928036406636238, Test avg loss: 0.05217701569199562\n"
     ]
    }
   ],
   "source": [
    "epochs = 1000\n",
    "losses = []\n",
    "test_losses = []\n",
    "for epoch in range(epochs):\n",
    "    y_pred = model(x_train)\n",
    "    loss = loss_fn(y_pred, y_train)\n",
    "    losses.append(torch.mean(loss).detach().numpy())\n",
    "    \n",
    "    optimizer.zero_grad()\n",
    "    loss.backward()\n",
    "    optimizer.step()\n",
    "        \n",
    "    with torch.inference_mode():\n",
    "      test_pred = model(x_test)\n",
    "      test_loss = loss_fn(test_pred, y_test)\n",
    "      test_losses.append(torch.mean(test_loss).detach().numpy())\n",
    "      \n",
    "      # Print the average loss every few epochs\n",
    "    if (epoch + 1) % 100 == 0:  # Print every 10 epochs\n",
    "        print(f'Epoch [{epoch+1}/{epochs}], Average Loss: {loss}, Test avg loss: {test_loss}')\n",
    "        \n"
   ]
  },
  {
   "cell_type": "code",
   "execution_count": 53,
   "metadata": {},
   "outputs": [
    {
     "data": {
      "image/png": "[encoded data removed]",
      "text/plain": [
       "<Figure size 640x480 with 1 Axes>"
      ]
     },
     "metadata": {},
     "output_type": "display_data"
    }
   ],
   "source": [
    "import matplotlib.pyplot as plt\n",
    "plt.scatter(range(epochs), losses, label='Train losses')\n",
    "plt.scatter(range(epochs), test_losses, label='Test losses')\n",
    "plt.xlabel(\"epochs\")\n",
    "plt.ylabel(\"losses\")\n",
    "plt.show()"
   ]
  },
  {
   "cell_type": "code",
   "execution_count": 63,
   "metadata": {},
   "outputs": [
    {
     "name": "stdout",
     "output_type": "stream",
     "text": [
      "expected: 2, guessed: 2\n",
      "expected: 1, guessed: 1\n",
      "expected: 1, guessed: 1\n",
      "expected: 1, guessed: 1\n",
      "expected: 1, guessed: 1\n",
      "expected: 2, guessed: 2\n",
      "expected: 1, guessed: 1\n",
      "expected: 1, guessed: 1\n",
      "expected: 2, guessed: 2\n",
      "expected: 0, guessed: 0\n",
      "expected: 2, guessed: 2\n",
      "expected: 0, guessed: 0\n",
      "expected: 2, guessed: 2\n",
      "expected: 0, guessed: 0\n",
      "expected: 1, guessed: 1\n",
      "expected: 1, guessed: 1\n",
      "expected: 2, guessed: 2\n",
      "expected: 2, guessed: 2\n",
      "expected: 1, guessed: 1\n",
      "expected: 0, guessed: 0\n",
      "expected: 2, guessed: 2\n",
      "expected: 2, guessed: 2\n",
      "expected: 0, guessed: 0\n",
      "expected: 0, guessed: 0\n",
      "expected: 0, guessed: 0\n",
      "expected: 1, guessed: 1\n",
      "expected: 0, guessed: 0\n",
      "wrong!!!!: tensor([1.0365])\n",
      "expected: 2, guessed: 1\n",
      "expected: 0, guessed: 0\n",
      "expected: 2, guessed: 2\n",
      "29/30\n"
     ]
    }
   ],
   "source": [
    "correctGuesses = 0\n",
    "for i, item in enumerate(x_test):\n",
    "    with torch.inference_mode():\n",
    "        y_preds = model(item)\n",
    "        correct = y_test[i]\n",
    "        guess = \"\"\n",
    "        if y_preds < 0.5:\n",
    "             guess = 0\n",
    "        elif y_preds < 1.5:\n",
    "            guess = 1\n",
    "        else: guess = 2\n",
    "        \n",
    "        if (int(correct) == guess): \n",
    "            correctGuesses+=1\n",
    "        else: print(f'wrong!!!!: {y_preds}')\n",
    "        print(f'expected: {int(correct)}, guessed: {guess}')\n",
    "print(f'{correctGuesses}/30')\n",
    "        "
   ]
  }
 ],
 "metadata": {
  "kernelspec": {
   "display_name": "venv",
   "language": "python",
   "name": "python3"
  },
  "language_info": {
   "codemirror_mode": {
    "name": "ipython",
    "version": 3
   },
   "file_extension": ".py",
   "mimetype": "text/x-python",
   "name": "python",
   "nbconvert_exporter": "python",
   "pygments_lexer": "ipython3",
   "version": "3.11.5"
  }
 },
 "nbformat": 4,
 "nbformat_minor": 2
}
