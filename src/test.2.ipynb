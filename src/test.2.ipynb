{
 "cells": [
  {
   "cell_type": "code",
   "execution_count": 57,
   "metadata": {},
   "outputs": [],
   "source": [
    "import numpy as np\n",
    "from fetch_data import get_data, remove_cols\n",
    "from helper import *\n",
    "from getters_alpaca import *\n",
    "from ucimlrepo import fetch_ucirepo \n",
    "import torch\n",
    "import torch.nn as nn"
   ]
  },
  {
   "cell_type": "code",
   "execution_count": 58,
   "metadata": {},
   "outputs": [],
   "source": [
    "# get data\n",
    "iris = fetch_ucirepo(id=53) \n",
    "  \n",
    "X = iris.data.features \n",
    "y = iris.data.targets \n",
    "x_numpy = np.array(X)\n",
    "y_numpy = np.array(y)\n",
    "\n",
    "# Combine features and targets into a single array and shuffle them\n",
    "data = np.column_stack((x_numpy, y_numpy))\n",
    "np.random.shuffle(data)\n",
    "\n",
    "x_numpy = data[:, :-1]\n",
    "y_numpy = data[:, -1]\n",
    "\n",
    "# Replacing plant names with corresponding numbers\n",
    "label_encoder = pd.factorize(y_numpy.flatten())[1]\n",
    "for i, name in enumerate(label_encoder):\n",
    "    y_numpy[y_numpy == name] = i\n",
    "\n",
    "\n",
    "m, n = x_numpy.shape # 150 x 4\n",
    "\n",
    "x_train= torch.tensor(x_numpy[0:120].astype(float), dtype=torch.float)\n",
    "y_train= torch.tensor(y_numpy[0:120].astype(int), dtype=torch.long)\n",
    "x_test=torch.tensor(x_numpy[120:m].astype(float), dtype=torch.float)\n",
    "y_test= torch.tensor(y_numpy[120:m].astype(int), dtype=torch.long)"
   ]
  },
  {
   "cell_type": "code",
   "execution_count": 65,
   "metadata": {},
   "outputs": [],
   "source": [
    "class LinearRegresionModel(nn.Module):\n",
    "    def __init__(self, in_features=4, l1 = 10, l2=10, out_features=3):\n",
    "        super().__init__()\n",
    "        self.weights1 = nn.Parameter(torch.randn(in_features, l1, dtype=torch.float), requires_grad=True)\n",
    "        self.bias1 = nn.Parameter(torch.randn(1, dtype=torch.float), requires_grad=True)\n",
    "        \n",
    "        self.weights2 = nn.Parameter(torch.randn(l1, l2, dtype=torch.float), requires_grad=True)\n",
    "        self.bias2 = nn.Parameter(torch.randn(1, dtype=torch.float), requires_grad=True)\n",
    "        \n",
    "        self.weights3 = nn.Parameter(torch.randn(l2, out_features, dtype=torch.float), requires_grad=True)\n",
    "        self.bias3 = nn.Parameter(torch.randn(1, dtype=torch.float), requires_grad=True)\n",
    "        \n",
    "    def forward(self, x) -> torch.Tensor:\n",
    "       # print(f'{x.shape} x {self.weights1.size()}')\n",
    "        x = torch.matmul(x, self.weights1) + self.bias1\n",
    "        x = torch.relu(x)\n",
    "       # print(f'{x.shape} x {self.weights2.size()}')\n",
    "        x = torch.matmul(x, self.weights2) + self.bias2\n",
    "        x = torch.relu(x)\n",
    "        #print(f'{x.shape} x {self.weights2.size()}')\n",
    "        x = torch.matmul(x, self.weights3) + self.bias3\n",
    "        #print(x.shape)\n",
    "        return x"
   ]
  },
  {
   "cell_type": "code",
   "execution_count": 66,
   "metadata": {},
   "outputs": [],
   "source": [
    "torch.manual_seed(1)\n",
    "model = LinearRegresionModel()"
   ]
  },
  {
   "cell_type": "code",
   "execution_count": 67,
   "metadata": {},
   "outputs": [],
   "source": [
    "optimizer = torch.optim.Adam(model.parameters(), lr=0.003)\n",
    "criterion = nn.CrossEntropyLoss()"
   ]
  },
  {
   "cell_type": "code",
   "execution_count": 68,
   "metadata": {},
   "outputs": [
    {
     "name": "stdout",
     "output_type": "stream",
     "text": [
      "Epoch [10/500], Average Loss: 0.8867114186286926, Test avg loss: 0.8569980263710022\n",
      "Epoch [20/500], Average Loss: 0.7427192330360413, Test avg loss: 0.6892481446266174\n",
      "Epoch [30/500], Average Loss: 0.6468002200126648, Test avg loss: 0.5662127733230591\n",
      "Epoch [40/500], Average Loss: 0.5867339968681335, Test avg loss: 0.5265870094299316\n",
      "Epoch [50/500], Average Loss: 0.5319377183914185, Test avg loss: 0.4762708246707916\n",
      "Epoch [60/500], Average Loss: 0.45563793182373047, Test avg loss: 0.40417665243148804\n",
      "Epoch [70/500], Average Loss: 0.3380797803401947, Test avg loss: 0.25283679366111755\n",
      "Epoch [80/500], Average Loss: 0.26166635751724243, Test avg loss: 0.20146431028842926\n",
      "Epoch [90/500], Average Loss: 0.22363236546516418, Test avg loss: 0.17745214700698853\n",
      "Epoch [100/500], Average Loss: 0.20970673859119415, Test avg loss: 0.16109058260917664\n",
      "Epoch [110/500], Average Loss: 0.19939857721328735, Test avg loss: 0.1498131901025772\n",
      "Epoch [120/500], Average Loss: 0.19119197130203247, Test avg loss: 0.14048244059085846\n",
      "Epoch [130/500], Average Loss: 0.18432024121284485, Test avg loss: 0.13294625282287598\n",
      "Epoch [140/500], Average Loss: 0.17850415408611298, Test avg loss: 0.12673336267471313\n",
      "Epoch [150/500], Average Loss: 0.17342981696128845, Test avg loss: 0.12153435498476028\n",
      "Epoch [160/500], Average Loss: 0.1688815802335739, Test avg loss: 0.11699724197387695\n",
      "Epoch [170/500], Average Loss: 0.16474413871765137, Test avg loss: 0.11277931183576584\n",
      "Epoch [180/500], Average Loss: 0.16094456613063812, Test avg loss: 0.10895206034183502\n",
      "Epoch [190/500], Average Loss: 0.15741364657878876, Test avg loss: 0.10541839897632599\n",
      "Epoch [200/500], Average Loss: 0.15365275740623474, Test avg loss: 0.09978747367858887\n",
      "Epoch [210/500], Average Loss: 0.15025894343852997, Test avg loss: 0.09576689451932907\n",
      "Epoch [220/500], Average Loss: 0.1470862179994583, Test avg loss: 0.09334632754325867\n",
      "Epoch [230/500], Average Loss: 0.14408619701862335, Test avg loss: 0.08953320235013962\n",
      "Epoch [240/500], Average Loss: 0.1412256807088852, Test avg loss: 0.08666392415761948\n",
      "Epoch [250/500], Average Loss: 0.13852013647556305, Test avg loss: 0.08410128206014633\n",
      "Epoch [260/500], Average Loss: 0.13591696321964264, Test avg loss: 0.08267291635274887\n",
      "Epoch [270/500], Average Loss: 0.13344231247901917, Test avg loss: 0.07953936606645584\n",
      "Epoch [280/500], Average Loss: 0.13102829456329346, Test avg loss: 0.0774620845913887\n",
      "Epoch [290/500], Average Loss: 0.12869951128959656, Test avg loss: 0.0753936842083931\n",
      "Epoch [300/500], Average Loss: 0.12639600038528442, Test avg loss: 0.07372767478227615\n",
      "Epoch [310/500], Average Loss: 0.12386281788349152, Test avg loss: 0.07186353206634521\n",
      "Epoch [320/500], Average Loss: 0.12138459086418152, Test avg loss: 0.06951937079429626\n",
      "Epoch [330/500], Average Loss: 0.11898494511842728, Test avg loss: 0.06987926363945007\n",
      "Epoch [340/500], Average Loss: 0.11668857932090759, Test avg loss: 0.06752525269985199\n",
      "Epoch [350/500], Average Loss: 0.11444927006959915, Test avg loss: 0.06587556004524231\n",
      "Epoch [360/500], Average Loss: 0.11226522922515869, Test avg loss: 0.06468627601861954\n",
      "Epoch [370/500], Average Loss: 0.11028499901294708, Test avg loss: 0.06310854852199554\n",
      "Epoch [380/500], Average Loss: 0.108319491147995, Test avg loss: 0.06208048760890961\n",
      "Epoch [390/500], Average Loss: 0.1064719632267952, Test avg loss: 0.060763392597436905\n",
      "Epoch [400/500], Average Loss: 0.10465836524963379, Test avg loss: 0.059265993535518646\n",
      "Epoch [410/500], Average Loss: 0.10292501747608185, Test avg loss: 0.058455660939216614\n",
      "Epoch [420/500], Average Loss: 0.10122217983007431, Test avg loss: 0.05650894716382027\n",
      "Epoch [430/500], Average Loss: 0.09955261647701263, Test avg loss: 0.05602281168103218\n",
      "Epoch [440/500], Average Loss: 0.09791585803031921, Test avg loss: 0.053465116769075394\n",
      "Epoch [450/500], Average Loss: 0.09641876071691513, Test avg loss: 0.0537111833691597\n",
      "Epoch [460/500], Average Loss: 0.09490681439638138, Test avg loss: 0.05325919762253761\n",
      "Epoch [470/500], Average Loss: 0.09345491975545883, Test avg loss: 0.050476446747779846\n",
      "Epoch [480/500], Average Loss: 0.09198318421840668, Test avg loss: 0.0504247322678566\n",
      "Epoch [490/500], Average Loss: 0.09064031392335892, Test avg loss: 0.051851678639650345\n",
      "Epoch [500/500], Average Loss: 0.08925686031579971, Test avg loss: 0.04977843537926674\n"
     ]
    }
   ],
   "source": [
    "epochs = 500\n",
    "losses = []\n",
    "test_losses = []\n",
    "for epoch in range(epochs):\n",
    "    y_pred = model(x_train)\n",
    "    loss = criterion(y_pred, y_train)\n",
    "    losses.append(torch.mean(loss).detach().numpy())\n",
    "    \n",
    "    optimizer.zero_grad()\n",
    "    loss.backward()\n",
    "    optimizer.step()\n",
    "        \n",
    "    with torch.inference_mode():\n",
    "      test_pred = model(x_test)\n",
    "      test_loss = criterion(test_pred, y_test)\n",
    "      test_losses.append(torch.mean(test_loss).detach().numpy())\n",
    "      \n",
    "      # Print the average loss every few epochs\n",
    "    if (epoch + 1) % 10 == 0:  # Print every 10 epochs\n",
    "        print(f'Epoch [{epoch+1}/{epochs}], Average Loss: {loss}, Test avg loss: {test_loss}')\n",
    "        \n"
   ]
  },
  {
   "cell_type": "code",
   "execution_count": 69,
   "metadata": {},
   "outputs": [
    {
     "data": {
      "image/png": "[encoded data removed]",
      "text/plain": [
       "<Figure size 640x480 with 1 Axes>"
      ]
     },
     "metadata": {},
     "output_type": "display_data"
    }
   ],
   "source": [
    "import matplotlib.pyplot as plt\n",
    "plt.scatter(range(epochs), losses, label='Train losses')\n",
    "plt.scatter(range(epochs), test_losses, label='Test losses')\n",
    "plt.xlabel(\"epochs\")\n",
    "plt.ylabel(\"losses\")\n",
    "plt.show()"
   ]
  },
  {
   "cell_type": "code",
   "execution_count": 70,
   "metadata": {},
   "outputs": [
    {
     "name": "stdout",
     "output_type": "stream",
     "text": [
      "expected: 1, guessed: 1\n",
      "expected: 0, guessed: 0\n",
      "expected: 0, guessed: 0\n",
      "expected: 1, guessed: 1\n",
      "expected: 2, guessed: 2\n",
      "expected: 1, guessed: 1\n",
      "expected: 2, guessed: 2\n",
      "expected: 2, guessed: 2\n",
      "expected: 2, guessed: 2\n",
      "expected: 0, guessed: 0\n",
      "expected: 0, guessed: 0\n",
      "expected: 1, guessed: 1\n",
      "expected: 2, guessed: 2\n",
      "expected: 0, guessed: 0\n",
      "expected: 2, guessed: 2\n",
      "expected: 0, guessed: 0\n",
      "expected: 0, guessed: 0\n",
      "expected: 0, guessed: 0\n",
      "expected: 1, guessed: 1\n",
      "expected: 1, guessed: 1\n",
      "expected: 1, guessed: 1\n",
      "expected: 2, guessed: 2\n",
      "expected: 1, guessed: 1\n",
      "expected: 1, guessed: 1\n",
      "expected: 1, guessed: 1\n",
      "expected: 1, guessed: 1\n",
      "expected: 2, guessed: 2\n",
      "expected: 2, guessed: 2\n",
      "expected: 0, guessed: 0\n",
      "expected: 2, guessed: 2\n",
      "30/30\n"
     ]
    }
   ],
   "source": [
    "correctGuesses = 0\n",
    "for i, flower in enumerate(x_test):\n",
    "    with torch.inference_mode():\n",
    "        y_preds = model(flower)\n",
    "        correct = y_test[i]\n",
    "        guess = torch.argmax(y_preds).item()\n",
    "        \n",
    "        if (int(correct) == guess): \n",
    "            correctGuesses+=1\n",
    "        else: print(f'wrong!!!!: {y_preds}')\n",
    "        print(f'expected: {int(correct)}, guessed: {guess}')\n",
    "print(f'{correctGuesses}/30')\n",
    "        "
   ]
  }
 ],
 "metadata": {
  "kernelspec": {
   "display_name": "venv",
   "language": "python",
   "name": "python3"
  },
  "language_info": {
   "codemirror_mode": {
    "name": "ipython",
    "version": 3
   },
   "file_extension": ".py",
   "mimetype": "text/x-python",
   "name": "python",
   "nbconvert_exporter": "python",
   "pygments_lexer": "ipython3",
   "version": "3.11.5"
  }
 },
 "nbformat": 4,
 "nbformat_minor": 2
}
