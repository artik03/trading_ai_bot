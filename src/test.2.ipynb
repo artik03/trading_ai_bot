{
 "cells": [
  {
   "cell_type": "code",
   "execution_count": 2,
   "metadata": {},
   "outputs": [],
   "source": [
    "import numpy as np\n",
    "from fetch_data import get_data, remove_cols\n",
    "from helper import *\n",
    "from getters_alpaca import *\n",
    "from ucimlrepo import fetch_ucirepo \n",
    "import torch\n",
    "import torch.nn as nn"
   ]
  },
  {
   "cell_type": "code",
   "execution_count": 15,
   "metadata": {},
   "outputs": [],
   "source": [
    "# get data\n",
    "iris = fetch_ucirepo(id=53) \n",
    "  \n",
    "X = iris.data.features \n",
    "y = iris.data.targets \n",
    "x_numpy = np.array(X)\n",
    "y_numpy = np.array(y)\n",
    "\n",
    "# Combine features and targets into a single array and shuffle them\n",
    "data = np.column_stack((x_numpy, y_numpy))\n",
    "np.random.shuffle(data)\n",
    "\n",
    "x_numpy = data[:, :-1]\n",
    "y_numpy = data[:, -1]\n",
    "\n",
    "# Replacing plant names with corresponding numbers\n",
    "label_encoder = pd.factorize(y_numpy.flatten())[1]\n",
    "for i, name in enumerate(label_encoder):\n",
    "    y_numpy[y_numpy == name] = i\n",
    "\n",
    "\n",
    "m, n = x_numpy.shape # 150 x 4\n",
    "\n",
    "x_train= torch.tensor(x_numpy[0:120].astype(float), dtype=torch.float)\n",
    "y_train= torch.tensor(y_numpy[0:120].astype(int), dtype=torch.long)\n",
    "x_test=torch.tensor(x_numpy[120:m].astype(float), dtype=torch.float)\n",
    "y_test= torch.tensor(y_numpy[120:m].astype(int), dtype=torch.long)"
   ]
  },
  {
   "cell_type": "code",
   "execution_count": 53,
   "metadata": {},
   "outputs": [],
   "source": [
    "class LinearRegresionModel(nn.Module):\n",
    "    def __init__(self, in_features=4, l1 = 10, l2=10, out_features=3):\n",
    "        super().__init__()\n",
    "        self.weights1 = nn.Parameter(torch.randn(in_features, l1, dtype=torch.float), requires_grad=True)\n",
    "        self.bias1 = nn.Parameter(torch.randn(1, dtype=torch.float), requires_grad=True)\n",
    "        \n",
    "        self.weights2 = nn.Parameter(torch.randn(l1, l2, dtype=torch.float), requires_grad=True)\n",
    "        self.bias2 = nn.Parameter(torch.randn(1, dtype=torch.float), requires_grad=True)\n",
    "        \n",
    "        self.weights3 = nn.Parameter(torch.randn(l2, out_features, dtype=torch.float), requires_grad=True)\n",
    "        self.bias3 = nn.Parameter(torch.randn(1, dtype=torch.float), requires_grad=True)\n",
    "        \n",
    "    def forward(self, x) -> torch.Tensor:\n",
    "       # print(f'{x.shape} x {self.weights1.size()}')\n",
    "        x = torch.matmul(x, self.weights1) + self.bias1\n",
    "        x = torch.relu(x)\n",
    "       # print(f'{x.shape} x {self.weights2.size()}')\n",
    "        x = torch.matmul(x, self.weights2) + self.bias2\n",
    "        x = torch.relu(x)\n",
    "        #print(f'{x.shape} x {self.weights2.size()}')\n",
    "        x = torch.matmul(x, self.weights3) + self.bias3\n",
    "        #print(x.shape)\n",
    "        return x"
   ]
  },
  {
   "cell_type": "code",
   "execution_count": 54,
   "metadata": {},
   "outputs": [],
   "source": [
    "torch.manual_seed(1)\n",
    "model = LinearRegresionModel()"
   ]
  },
  {
   "cell_type": "code",
   "execution_count": 55,
   "metadata": {},
   "outputs": [],
   "source": [
    "optimizer = torch.optim.Adam(model.parameters(), lr=0.003)\n",
    "criterion = nn.CrossEntropyLoss()"
   ]
  },
  {
   "cell_type": "code",
   "execution_count": 56,
   "metadata": {},
   "outputs": [
    {
     "ename": "TypeError",
     "evalue": "softmax() received an invalid combination of arguments - got (Tensor), but expected one of:\n * (Tensor input, int dim, torch.dtype dtype, *, Tensor out)\n * (Tensor input, name dim, *, torch.dtype dtype)\n",
     "output_type": "error",
     "traceback": [
      "\u001b[1;31m---------------------------------------------------------------------------\u001b[0m",
      "\u001b[1;31mTypeError\u001b[0m                                 Traceback (most recent call last)",
      "Cell \u001b[1;32mIn[56], line 5\u001b[0m\n\u001b[0;32m      3\u001b[0m test_losses \u001b[38;5;241m=\u001b[39m []\n\u001b[0;32m      4\u001b[0m \u001b[38;5;28;01mfor\u001b[39;00m epoch \u001b[38;5;129;01min\u001b[39;00m \u001b[38;5;28mrange\u001b[39m(epochs):\n\u001b[1;32m----> 5\u001b[0m     y_pred \u001b[38;5;241m=\u001b[39m \u001b[43mmodel\u001b[49m\u001b[43m(\u001b[49m\u001b[43mx_train\u001b[49m\u001b[43m)\u001b[49m\n\u001b[0;32m      6\u001b[0m     loss \u001b[38;5;241m=\u001b[39m criterion(y_pred, y_train)\n\u001b[0;32m      7\u001b[0m     losses\u001b[38;5;241m.\u001b[39mappend(torch\u001b[38;5;241m.\u001b[39mmean(loss)\u001b[38;5;241m.\u001b[39mdetach()\u001b[38;5;241m.\u001b[39mnumpy())\n",
      "File \u001b[1;32mc:\\Users\\artom\\OneDrive - Spojená škola\\PROGRAMOVANIE\\InfDoma\\projects\\eth\\trading_bot\\venv\\Lib\\site-packages\\torch\\nn\\modules\\module.py:1532\u001b[0m, in \u001b[0;36mModule._wrapped_call_impl\u001b[1;34m(self, *args, **kwargs)\u001b[0m\n\u001b[0;32m   1530\u001b[0m     \u001b[38;5;28;01mreturn\u001b[39;00m \u001b[38;5;28mself\u001b[39m\u001b[38;5;241m.\u001b[39m_compiled_call_impl(\u001b[38;5;241m*\u001b[39margs, \u001b[38;5;241m*\u001b[39m\u001b[38;5;241m*\u001b[39mkwargs)  \u001b[38;5;66;03m# type: ignore[misc]\u001b[39;00m\n\u001b[0;32m   1531\u001b[0m \u001b[38;5;28;01melse\u001b[39;00m:\n\u001b[1;32m-> 1532\u001b[0m     \u001b[38;5;28;01mreturn\u001b[39;00m \u001b[38;5;28;43mself\u001b[39;49m\u001b[38;5;241;43m.\u001b[39;49m\u001b[43m_call_impl\u001b[49m\u001b[43m(\u001b[49m\u001b[38;5;241;43m*\u001b[39;49m\u001b[43margs\u001b[49m\u001b[43m,\u001b[49m\u001b[43m \u001b[49m\u001b[38;5;241;43m*\u001b[39;49m\u001b[38;5;241;43m*\u001b[39;49m\u001b[43mkwargs\u001b[49m\u001b[43m)\u001b[49m\n",
      "File \u001b[1;32mc:\\Users\\artom\\OneDrive - Spojená škola\\PROGRAMOVANIE\\InfDoma\\projects\\eth\\trading_bot\\venv\\Lib\\site-packages\\torch\\nn\\modules\\module.py:1541\u001b[0m, in \u001b[0;36mModule._call_impl\u001b[1;34m(self, *args, **kwargs)\u001b[0m\n\u001b[0;32m   1536\u001b[0m \u001b[38;5;66;03m# If we don't have any hooks, we want to skip the rest of the logic in\u001b[39;00m\n\u001b[0;32m   1537\u001b[0m \u001b[38;5;66;03m# this function, and just call forward.\u001b[39;00m\n\u001b[0;32m   1538\u001b[0m \u001b[38;5;28;01mif\u001b[39;00m \u001b[38;5;129;01mnot\u001b[39;00m (\u001b[38;5;28mself\u001b[39m\u001b[38;5;241m.\u001b[39m_backward_hooks \u001b[38;5;129;01mor\u001b[39;00m \u001b[38;5;28mself\u001b[39m\u001b[38;5;241m.\u001b[39m_backward_pre_hooks \u001b[38;5;129;01mor\u001b[39;00m \u001b[38;5;28mself\u001b[39m\u001b[38;5;241m.\u001b[39m_forward_hooks \u001b[38;5;129;01mor\u001b[39;00m \u001b[38;5;28mself\u001b[39m\u001b[38;5;241m.\u001b[39m_forward_pre_hooks\n\u001b[0;32m   1539\u001b[0m         \u001b[38;5;129;01mor\u001b[39;00m _global_backward_pre_hooks \u001b[38;5;129;01mor\u001b[39;00m _global_backward_hooks\n\u001b[0;32m   1540\u001b[0m         \u001b[38;5;129;01mor\u001b[39;00m _global_forward_hooks \u001b[38;5;129;01mor\u001b[39;00m _global_forward_pre_hooks):\n\u001b[1;32m-> 1541\u001b[0m     \u001b[38;5;28;01mreturn\u001b[39;00m \u001b[43mforward_call\u001b[49m\u001b[43m(\u001b[49m\u001b[38;5;241;43m*\u001b[39;49m\u001b[43margs\u001b[49m\u001b[43m,\u001b[49m\u001b[43m \u001b[49m\u001b[38;5;241;43m*\u001b[39;49m\u001b[38;5;241;43m*\u001b[39;49m\u001b[43mkwargs\u001b[49m\u001b[43m)\u001b[49m\n\u001b[0;32m   1543\u001b[0m \u001b[38;5;28;01mtry\u001b[39;00m:\n\u001b[0;32m   1544\u001b[0m     result \u001b[38;5;241m=\u001b[39m \u001b[38;5;28;01mNone\u001b[39;00m\n",
      "Cell \u001b[1;32mIn[53], line 22\u001b[0m, in \u001b[0;36mLinearRegresionModel.forward\u001b[1;34m(self, x)\u001b[0m\n\u001b[0;32m     20\u001b[0m \u001b[38;5;66;03m#print(f'{x.shape} x {self.weights2.size()}')\u001b[39;00m\n\u001b[0;32m     21\u001b[0m x \u001b[38;5;241m=\u001b[39m torch\u001b[38;5;241m.\u001b[39mmatmul(x, \u001b[38;5;28mself\u001b[39m\u001b[38;5;241m.\u001b[39mweights3) \u001b[38;5;241m+\u001b[39m \u001b[38;5;28mself\u001b[39m\u001b[38;5;241m.\u001b[39mbias3\n\u001b[1;32m---> 22\u001b[0m x \u001b[38;5;241m=\u001b[39m \u001b[43mtorch\u001b[49m\u001b[38;5;241;43m.\u001b[39;49m\u001b[43msoftmax\u001b[49m\u001b[43m(\u001b[49m\u001b[43mx\u001b[49m\u001b[43m)\u001b[49m\n\u001b[0;32m     23\u001b[0m \u001b[38;5;66;03m#print(x.shape)\u001b[39;00m\n\u001b[0;32m     24\u001b[0m \u001b[38;5;28;01mreturn\u001b[39;00m x\n",
      "\u001b[1;31mTypeError\u001b[0m: softmax() received an invalid combination of arguments - got (Tensor), but expected one of:\n * (Tensor input, int dim, torch.dtype dtype, *, Tensor out)\n * (Tensor input, name dim, *, torch.dtype dtype)\n"
     ]
    }
   ],
   "source": [
    "epochs = 500\n",
    "losses = []\n",
    "test_losses = []\n",
    "for epoch in range(epochs):\n",
    "    y_pred = model(x_train)\n",
    "    loss = criterion(y_pred, y_train)\n",
    "    losses.append(torch.mean(loss).detach().numpy())\n",
    "    \n",
    "    optimizer.zero_grad()\n",
    "    loss.backward()\n",
    "    optimizer.step()\n",
    "        \n",
    "    with torch.inference_mode():\n",
    "      test_pred = model(x_test)\n",
    "      test_loss = criterion(test_pred, y_test)\n",
    "      test_losses.append(torch.mean(test_loss).detach().numpy())\n",
    "      \n",
    "      # Print the average loss every few epochs\n",
    "    if (epoch + 1) % 10 == 0:  # Print every 10 epochs\n",
    "        print(f'Epoch [{epoch+1}/{epochs}], Average Loss: {loss}, Test avg loss: {test_loss}')\n",
    "        \n"
   ]
  },
  {
   "cell_type": "code",
   "execution_count": 50,
   "metadata": {},
   "outputs": [
    {
     "data": {
      "image/png": "[encoded data removed]",
      "text/plain": [
       "<Figure size 640x480 with 1 Axes>"
      ]
     },
     "metadata": {},
     "output_type": "display_data"
    }
   ],
   "source": [
    "import matplotlib.pyplot as plt\n",
    "plt.scatter(range(epochs), losses, label='Train losses')\n",
    "plt.scatter(range(epochs), test_losses, label='Test losses')\n",
    "plt.xlabel(\"epochs\")\n",
    "plt.ylabel(\"losses\")\n",
    "plt.show()"
   ]
  },
  {
   "cell_type": "code",
   "execution_count": 52,
   "metadata": {},
   "outputs": [
    {
     "name": "stdout",
     "output_type": "stream",
     "text": [
      "expected: 1, guessed: 1\n",
      "expected: 0, guessed: 0\n",
      "expected: 0, guessed: 0\n",
      "expected: 2, guessed: 2\n",
      "expected: 1, guessed: 1\n",
      "expected: 1, guessed: 1\n",
      "expected: 1, guessed: 1\n",
      "expected: 2, guessed: 2\n",
      "expected: 2, guessed: 2\n",
      "expected: 0, guessed: 0\n",
      "expected: 2, guessed: 2\n",
      "expected: 0, guessed: 0\n",
      "expected: 0, guessed: 0\n",
      "wrong!!!!: tensor([14.3520, -5.1803, 12.1884])\n",
      "expected: 2, guessed: 0\n",
      "expected: 2, guessed: 2\n",
      "expected: 0, guessed: 0\n",
      "expected: 0, guessed: 0\n",
      "expected: 0, guessed: 0\n",
      "wrong!!!!: tensor([16.7799, -2.0918, 10.2190])\n",
      "expected: 2, guessed: 0\n",
      "expected: 2, guessed: 2\n",
      "expected: 0, guessed: 0\n",
      "expected: 1, guessed: 1\n",
      "expected: 2, guessed: 2\n",
      "expected: 0, guessed: 0\n",
      "expected: 1, guessed: 1\n",
      "expected: 2, guessed: 2\n",
      "expected: 2, guessed: 2\n",
      "expected: 2, guessed: 2\n",
      "expected: 2, guessed: 2\n",
      "expected: 1, guessed: 1\n",
      "28/30\n"
     ]
    }
   ],
   "source": [
    "correctGuesses = 0\n",
    "for i, flower in enumerate(x_test):\n",
    "    with torch.inference_mode():\n",
    "        y_preds = model(flower)\n",
    "        correct = y_test[i]\n",
    "        guess = torch.argmax(y_preds).item()\n",
    "        \n",
    "        if (int(correct) == guess): \n",
    "            correctGuesses+=1\n",
    "        else: print(f'wrong!!!!: {y_preds}')\n",
    "        print(f'expected: {int(correct)}, guessed: {guess}')\n",
    "print(f'{correctGuesses}/30')\n",
    "        "
   ]
  }
 ],
 "metadata": {
  "kernelspec": {
   "display_name": "venv",
   "language": "python",
   "name": "python3"
  },
  "language_info": {
   "codemirror_mode": {
    "name": "ipython",
    "version": 3
   },
   "file_extension": ".py",
   "mimetype": "text/x-python",
   "name": "python",
   "nbconvert_exporter": "python",
   "pygments_lexer": "ipython3",
   "version": "3.11.5"
  }
 },
 "nbformat": 4,
 "nbformat_minor": 2
}
